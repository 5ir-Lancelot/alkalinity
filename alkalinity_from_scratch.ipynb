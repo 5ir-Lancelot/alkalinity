{
 "cells": [
  {
   "cell_type": "markdown",
   "id": "4050cd55",
   "metadata": {},
   "source": [
    "# Carbonate system solved from scratch \n",
    "The following code will calculate the pH of a saolution in an open carbonate system. The alkalinity of the solution is purely described by H+ OH- HCO3- and CO3-2. There are no other acid-base systems added in the example , like present in direct soil water or seawater. This is a simplification made to show the concept behind it and avoid making the calculations too long"
   ]
  },
  {
   "cell_type": "code",
   "execution_count": null,
   "id": "9cc5f8af",
   "metadata": {},
   "outputs": [],
   "source": [
    "\"\"\"\n",
    "Created on Thu Feb  2 11:03:40 2023\n",
    "\n",
    "@author: u301072\n",
    "\n",
    "\n",
    "With this code I will solve the simple alkalinity expression on the basis of the constants\n",
    "\n",
    "\n",
    "https://en.wikipedia.org/wiki/Henry%27s_law\n",
    "\n",
    "\n",
    "the constants from phreeqc.dat\n",
    "https://wwwbrr.cr.usgs.gov/projects/GWC_coupled/phreeqc/html/final-90.html\n",
    "\n",
    "\n",
    "\n",
    "\n",
    "CO3-2 + H+ = HCO3-\n",
    "        log_k           10.329\n",
    "\"\"\"\n"
   ]
  },
  {
   "cell_type": "markdown",
   "id": "5670c90d",
   "metadata": {},
   "source": [
    "# Henry's law \n",
    "In physical chemistry, Henry's law is a gas law that states that the amount of dissolved gas in a liquid is directly proportional to its partial pressure above the liquid.\n",
    "\n",
    "The following text is from (\n",
    "\n",
    "For the constants and temperature dependece there is a beautiful webiste reporting how the constants evolved over time \n",
    "http://www.henrys-law.org/henry/\n",
    "\n",
    "For the CO2 constants see https://henrys-law.org/henry/casrn/124-38-9\n",
    "\n",
    "$H^{cp}$ = Henry solubility (defined as c/p) [mol m$_{aq}^{−3}$ Pa$^{−1}$]\n",
    "\n",
    "$${\\displaystyle H_{\\rm {s}}^{cp}={\\frac {c_{\\text{a}}}{p}}}$$\n",
    "\n",
    "\n",
    "## Temperature dependence of Henry’s law constants\n",
    "\n",
    "The temperature dependence of equilibrium constants can generally be described with the van ’t Hoff equation (e.g., Atkins, 1986). It also applies to Henry’s law constants:\n",
    "\n",
    "\n",
    "$${\\displaystyle {\\frac {\\mathrm {d} \\ln H}{\\mathrm {d} (1/T)}}={\\frac {-\\Delta _{\\text{sol}}H}{R}}}$$\n",
    "\n",
    "where ${-\\Delta _{\\text{sol}}H} $ = enthalpy of dissolution. Note that the letter $H$ in the symbol ${-\\Delta _{\\text{sol}}H} $ refers to enthalpy and is not related to the $H$ of Henry’s law constants. Integrating the above equation leads to\n",
    "\n",
    "Integrating the above equation leads to:\n",
    "\n",
    "$H(T)= A \\cdot exp(\\frac{B}{T})$\n",
    "\n",
    "Alternatively, one can create an expression based on H \t at the reference temperature T \t = 298.15 K:\n",
    "\n",
    "$${\\displaystyle H(T)=H^{\\circ }\\exp \\left[{\\frac {-\\Delta _{\\text{sol}}H}{R}}\\left({\\frac {1}{T}}-{\\frac {1}{T^{\\circ }}}\\right)\\right]}$$\n",
    "\n",
    "\n",
    "$${\\displaystyle \\frac {-\\Delta _{\\text{sol}}H}{R} = 2400 K}$$\n",
    "\n",
    "The $H^{cp}$ at reference temperature T= 298.15 K:\n",
    "\n",
    "${\\displaystyle H^{\\circ}=3.3  \\cdot 10^{-4}}$  mol m$_{aq}^{−3}$ Pa$^{−1}$ \n",
    "\n",
    "The conversion to  are calculated at a temperature of T = 298.15 K and a solution density of ϱ = 997 kg/m3.\n",
    "Conversion to mol kg$^{-1}$ Pa$^{−1}$:\n",
    "\n",
    "\n",
    "$conv=1.00301 \\cdot 10^{-3}$\n",
    "\n",
    "\n",
    "${\\displaystyle H^{\\circ}=3.3  \\cdot 10^{-4}} \\cdot 1.00301 \\cdot 10^{-3} = 3.309933 \\cdot 10^{-7}$  mol kg$^{-1}$ Pa$^{−1}$ \n",
    "\n",
    "\n",
    "\n",
    "\n",
    "\n"
   ]
  },
  {
   "cell_type": "code",
   "execution_count": 52,
   "id": "a676f219",
   "metadata": {},
   "outputs": [],
   "source": [
    "#temperature dependece factor for CO2\n",
    "f_CO2=2400 \n",
    "\n",
    "T_ref=298.15\n",
    "\n",
    "\n",
    "# Henry's law temperature dependence\n",
    "# T in celsius\n",
    "\n",
    "def Henry(T):\n",
    "    \n",
    "    #convert to Kelvin\n",
    "    T_K=273.15+T\n",
    "    \n",
    "    res=H_ref*np.exp(f_CO2*((1/T_K)-(1/T_ref)))\n",
    "    \n",
    "    \n",
    "    return res\n",
    "\n",
    "\n",
    "test=Henry(25)"
   ]
  },
  {
   "cell_type": "markdown",
   "id": "dbc299d5",
   "metadata": {},
   "source": [
    "# Dalton's law of partial pressures\n",
    "\n",
    "https://en.wikipedia.org/wiki/Partial_pressure\n",
    "\n",
    "Dalton's law expresses the fact that the total pressure of a mixture of ideal gases is equal to the sum of the partial pressures of the individual gases in the mixture. This equality arises from the fact that in an ideal gas, the molecules are so far apart that they do not interact with each other. Most actual real-world gases come very close to this ideal.\n",
    "\n",
    "$${\\displaystyle p=p_{{{A}}}+p_{{{B}}}+p_{{{C}}}}$$\n",
    "\n",
    "- $p=$  total pressure of the gas mixture\n",
    " \n",
    "- $A, B, C$=different gases\n",
    " \n",
    "# Partial Pressure of CO2\n",
    "\n",
    "The Carbon Dioxide Concentration in the atmsophere.\n",
    "https://gml.noaa.gov/ccgg/trends/\n",
    "\n",
    "$c(CO2)=418 ppm = 418 \\cdot 10^{-6} $\n",
    "\n",
    "\n",
    "The standard pressure of the atmosphere.\n",
    "https://en.wikipedia.org/wiki/Standard_atmosphere_(unit)\n",
    "https://en.wikipedia.org/wiki/Atmospheric_pressure\n",
    "\n",
    "$p_{atm}= 101325 Pa $\n",
    "\n",
    "Taking the total pressure $p_{atm}$ and the concentration $c(CO2)$ we can get the atmospheric partial pressure of CO2\n",
    "\n",
    "\n",
    "$pCO2= 101325 \\cdot 418 \\cdot 10^{-6}= 42.35385 Pa$\n",
    "\n"
   ]
  },
  {
   "cell_type": "code",
   "execution_count": 47,
   "id": "4c52b05d",
   "metadata": {},
   "outputs": [],
   "source": [
    "\n",
    "p_atm=101325 #Pa\n",
    "\n",
    "c_CO2=418e-6 # 1\n",
    "\n",
    "pCO2_atm=p_atm*c_CO2 # Pa\n",
    "\n",
    "#henrys law constant at reference T \n",
    "H_ref=3.3e-4\n",
    "\n",
    "conv=1.00301e-3\n",
    "\n",
    "H_ref=H_ref*conv"
   ]
  },
  {
   "cell_type": "code",
   "execution_count": 77,
   "id": "bc0967b9",
   "metadata": {},
   "outputs": [
    {
     "name": "stdout",
     "output_type": "stream",
     "text": [
      "CO2_aq-concentration [mol/kg]= 1.4018840579205e-05\n"
     ]
    }
   ],
   "source": [
    "\n",
    "#concentration of CO2aq in the water \n",
    "c_CO2_aq=pCO2_atm*Henry(25)  # mol/kg\n",
    "print('CO2_aq-concentration [mol/kg]=',c_CO2_aq)"
   ]
  },
  {
   "cell_type": "code",
   "execution_count": null,
   "id": "86b5e35a",
   "metadata": {},
   "outputs": [],
   "source": []
  },
  {
   "cell_type": "markdown",
   "id": "8d1e6f02",
   "metadata": {},
   "source": [
    "# Dissociation constants\n",
    "Those dissociation constants are dependent on Ionic strength (all dissolved ions charge summed up) of the solution. This dependence will be neglected here. It will make the calculation much more complicated.\n",
    "\n",
    "$${\\displaystyle I={\\begin{matrix}{\\frac {1}{2}}\\end{matrix}}\\sum _{i=1}^{n}c_{i}z_{i}^{2}} $$\n",
    "\n",
    "both cations and anions, $c_{i}$ is the molar concentration of ion i (M, mol/L), $z_{i}$ is the charge number of that ion\n",
    "\n",
    "https://en.wikipedia.org/wiki/Carbonic_acid\n",
    "\n",
    "\n",
    "The squared brackets imply the concentration is meant:\n",
    "\n",
    "$$ c( CO_3^{-2} ) = [ CO_3^{-2} ]. $$\n",
    "\n",
    "Because the $CO_2(aq)$ reacts fdast to $H_2 CO_3$\n",
    "$$ [CO_2 ] = [CO_2(aq) ]+ [H_2 CO_3 ].$$\n",
    "\n",
    "## 1. dissociation constant\n",
    "\n",
    "$$ CO_2 + H_2O ->H^{+} + HCO_3^{-}$$\n",
    "\n",
    "$$ K_1^{'} = \\frac{ [HCO_3^{-} ] \\cdot [H^{+}] }{ [CO_2 ] } $$\n",
    "\n",
    "## 2. dissociation constant\n",
    "\n",
    "$$ HCO_3^{-} -> H^{+} + CO_3^{-2} $$\n",
    "\n",
    "$$ K_2^{'}=\\frac{ [CO_3^{-2} ] \\cdot [H^{+} ] }{ [ HCO_3^{-} ] } $$\n",
    "\n",
    "## disscociation constant of water\n",
    "\n",
    "$$ K_w = [H^{+} ] [OH^{-} ] $$\n"
   ]
  },
  {
   "cell_type": "code",
   "execution_count": 46,
   "id": "215e0218",
   "metadata": {},
   "outputs": [],
   "source": [
    "import numpy as np\n",
    "import matplotlib.pyplot as plt\n",
    "from scipy.optimize import fsolve\n",
    "\n",
    "\n",
    "# the constants I am using \n",
    "# https://wwwbrr.cr.usgs.gov/projects/GWC_coupled/phreeqc/html/final-90.html\n",
    "\n",
    "#first dissociation constant of carbonic acid\n",
    "pK1=6.352\n",
    "\n",
    "K1=10**-pK1\n",
    "\n",
    "#second dissociation constant of carbonic acid\n",
    "pK2=10.329\n",
    "\n",
    "K2=10**-pK2\n",
    "\n",
    "\n",
    "# dissociation of water \n",
    "\n",
    "pKw=14\n",
    "\n",
    "Kw=10**-pKw\n",
    "\n",
    "\n"
   ]
  },
  {
   "cell_type": "markdown",
   "id": "29b620e9",
   "metadata": {},
   "source": [
    "# Simple Alkalinity (TA) expression\n",
    "Acid buffering capaity of a carbonate solution.\n",
    "\n",
    "Carbonate alkalinity\n",
    "\n",
    "The alkalinity can be introduced  by any alkaline substance added to the solution for example:\n",
    "\n",
    "Some Hydroxides (strong quick reacting base):\n",
    "- NaOH, Ca(OH)2), Mg(OH)2...\n",
    "\n",
    "some Carbonates:\n",
    "- NaHCO3, Na2CO3, CaCO3, MgCO3 ...\n",
    "\n",
    "The hydroxides will react with the CO2 the Carbonic acid from the atmosphere to from an new equilibrium state.\n",
    "\n",
    "$$OH^{-} + CO_2 -> HCO_3^- $$\n",
    "\n",
    "\n",
    "Alkalinity expression for a pure carbonate and hydroxide acid-base system. There are no other acid-base pairs involved like other inorganic bases or organic acids\n",
    "\n",
    "$$ TA = [HCO_3^-]+2*[CO_3^{-2}]+[OH^-]-[H^+]$$"
   ]
  },
  {
   "cell_type": "code",
   "execution_count": 69,
   "id": "b1f594f5",
   "metadata": {},
   "outputs": [],
   "source": [
    "#alkalinity of the solution \n",
    "# 10 mmol/kg\n",
    "TA=10*1e-3  # 10^-3  mol/kg  \n",
    "\n",
    "#define the  alklainity function\n",
    "\n",
    "# the variable is teh H+ concentration which is directly linked to the pH\n",
    "func = lambda H_ : TA - (  (K1*c_CO2_aq/H_) +2*(K1*K2*c_CO2_aq/H_**2)  + (Kw/H_) - H_)\n"
   ]
  },
  {
   "cell_type": "code",
   "execution_count": 86,
   "id": "a60a0ba6",
   "metadata": {},
   "outputs": [
    {
     "data": {
      "image/png": "[encoded data removed]",
      "text/plain": [
       "<Figure size 640x480 with 1 Axes>"
      ]
     },
     "metadata": {},
     "output_type": "display_data"
    }
   ],
   "source": [
    "H = np.logspace(-14,0, 100)\n",
    "\n",
    "plt.plot(H, func(H))\n",
    "plt.xlabel(\"H+ [mol/kg]\")\n",
    "plt.ylabel(\"expression value\")\n",
    "plt.xscale('log')\n",
    "plt.ylim([-1,1])\n",
    "plt.grid()\n",
    "plt.title('Find the point/ [H+]/ pH-value where TA-(...)=0')\n",
    "plt.show()\n"
   ]
  },
  {
   "cell_type": "markdown",
   "id": "c598c45e",
   "metadata": {},
   "source": [
    "# Find the pH at equilibrium of the solution "
   ]
  },
  {
   "cell_type": "code",
   "execution_count": 75,
   "id": "8ff2ffca",
   "metadata": {},
   "outputs": [
    {
     "name": "stdout",
     "output_type": "stream",
     "text": [
      "The solution H+ concentration is   c(H+) = 7.069880e-10 mol/kg \n",
      "at which the value of the expression is 0.000000e+00\n",
      "The pH of the solution at equilibrium with the atmosphere: pH= 9.150588\n"
     ]
    }
   ],
   "source": [
    "\n",
    "# Use the numerical solver to find the roots\n",
    "\n",
    "H_initial_guess = 1e-8\n",
    "H_solution = fsolve(func, H_initial_guess)\n",
    "\n",
    "print(\"The solution H+ concentration is   c(H+) = %e mol/kg \" % H_solution)\n",
    "print(\"at which the value of the expression is %e\" % func(H_solution))\n",
    "\n",
    "\n",
    "print(\"The pH of the solution at equilibrium with the atmosphere: pH= %f\" % -np.log10(H_solution))\n"
   ]
  },
  {
   "cell_type": "markdown",
   "id": "9ba33dd0",
   "metadata": {},
   "source": [
    "# References:\n",
    "\n",
    "Zeebe, R.E. and Wolf-Gladrow, D. (2001) CO2 in seawater: equilibrium, kinetics, isotopes. Gulf Professional Publishing (65).\n",
    "\n",
    "\n"
   ]
  },
  {
   "cell_type": "code",
   "execution_count": null,
   "id": "0b313673",
   "metadata": {},
   "outputs": [],
   "source": []
  }
 ],
 "metadata": {
  "kernelspec": {
   "display_name": "Python 3 (ipykernel)",
   "language": "python",
   "name": "python3"
  },
  "language_info": {
   "codemirror_mode": {
    "name": "ipython",
    "version": 3
   },
   "file_extension": ".py",
   "mimetype": "text/x-python",
   "name": "python",
   "nbconvert_exporter": "python",
   "pygments_lexer": "ipython3",
   "version": "3.10.9"
  }
 },
 "nbformat": 4,
 "nbformat_minor": 5
}
