{
 "cells": [
  {
   "cell_type": "markdown",
   "id": "1923842c",
   "metadata": {},
   "source": [
    "# Calculate for which EC the saturation of certain minerals will be reached"
   ]
  },
  {
   "cell_type": "code",
   "execution_count": 265,
   "id": "b1268240",
   "metadata": {},
   "outputs": [],
   "source": [
    "import phreeqpython\n",
    "pp = phreeqpython.PhreeqPython()\n",
    "\n",
    "import numpy as np\n",
    "\n",
    "from matplotlib import pyplot as plt"
   ]
  },
  {
   "cell_type": "markdown",
   "id": "53ccb096",
   "metadata": {},
   "source": [
    "# Phreeqc SOLUTION block\n",
    "\n",
    "https://wwwbrr.cr.usgs.gov/projects/GWC_coupled/phreeqc/html/final-56.html#89789\n",
    "\n",
    "concentration units --Default concentration units. Three groups of concentration units are allowed, concentration (1) per liter (\"/L\"), (2) per kilogram solution (\"/kgs\"), or (3) per kilogram water (\"/kgw\"). All concentration units for a solution must be within the same group. Within a group, either grams or moles may be used, and prefixes milli (m) and micro (u) are acceptable. Parts per thousand, \"ppt\"; parts per million, \"ppm\"; and parts per billion, \"ppb\", are acceptable in the \"per kilogram solution\" group. Default is mmol/kgw (millimoles per kilogram water)."
   ]
  },
  {
   "cell_type": "code",
   "execution_count": 266,
   "id": "31e22545",
   "metadata": {},
   "outputs": [
    {
     "name": "stdout",
     "output_type": "stream",
     "text": [
      "1\n"
     ]
    }
   ],
   "source": [
    "# assume all alkalinity is OH-\n",
    "\n",
    "kw=14\n",
    "\n",
    "pH=14\n",
    "\n",
    "TA=10**-(kw-pH)\n",
    "\n",
    "print(TA)\n",
    "\n",
    "\n",
    "# Simple, through a reaction block\n",
    "solution0 = pp.add_solution_simple({'Ca(OH)2':TA*1000},temperature=15, units='mmol')\n",
    "\n",
    "# Complex, allowing for more 'standard' PHREEQC input (Phreeqc example 3 -- Mixing)\n",
    "solution = pp.add_solution({'units':'mmol/kgw',\n",
    "                                 'pH': pH, # controlling the OH- and H+\n",
    "                                 'temp': 25.0,\n",
    "                                 'Ca': TA/2,\n",
    "                                 #'Alkalinity': str(TA*1000)+' as HCO3',\n",
    "                                })\n",
    "\n",
    "\n",
    "\n",
    "\n",
    "solution3 = pp.add_solution({'units':'mmol/kgw',\n",
    "                                 #'pH': 10, # controlling the OH- and H+\n",
    "                                 'temp': 25.0,\n",
    "                                 'Mg': 20.0,\n",
    "                                 #'Ca': TA/2,\n",
    "                                 'Alkalinity': str(2*20.0)+' as HCO3',\n",
    "                                })\n",
    "\n",
    "\n",
    "solution4 = pp.add_solution_simple({'Mg(HCO3)2':20},temperature=25, units='mmol')\n",
    "\n"
   ]
  },
  {
   "cell_type": "code",
   "execution_count": 267,
   "id": "b64a35e8",
   "metadata": {},
   "outputs": [
    {
     "data": {
      "text/plain": [
       "7.850013054278778"
      ]
     },
     "execution_count": 267,
     "metadata": {},
     "output_type": "execute_result"
    }
   ],
   "source": [
    "solution4.pH"
   ]
  },
  {
   "cell_type": "code",
   "execution_count": 268,
   "id": "2e2da182",
   "metadata": {},
   "outputs": [
    {
     "data": {
      "text/plain": [
       "{'Fix_pH': -14.0,\n",
       " 'H2(g)': -36.04892303367836,\n",
       " 'H2O(g)': -1.5028233204748613,\n",
       " 'O2(g)': -11.212491751948354}"
      ]
     },
     "execution_count": 268,
     "metadata": {},
     "output_type": "execute_result"
    }
   ],
   "source": [
    "solution.phases\n"
   ]
  },
  {
   "cell_type": "markdown",
   "id": "1bdd98fe",
   "metadata": {},
   "source": [
    "# Equilibrium with high CO2 partial pressure"
   ]
  },
  {
   "cell_type": "code",
   "execution_count": 269,
   "id": "0eb1ff6c",
   "metadata": {},
   "outputs": [
    {
     "data": {
      "text/plain": [
       "<phreeqpython.solution.Solution at 0x2245adb85b0>"
      ]
     },
     "execution_count": 269,
     "metadata": {},
     "output_type": "execute_result"
    }
   ],
   "source": [
    "#equalize the solution it with high CO2 pressure \n",
    "\n",
    "#concentration CO2\n",
    "p=415 # ppm\n",
    "\n",
    "#partial pressure pCO2 in atm\n",
    "pCO2=p*1e-6 \n",
    "\n",
    "#phreeqc always uses log10 values\n",
    "input_pCO2=np.log10(pCO2)\n",
    "\n",
    "\n",
    "\n",
    "# equalize solution with CO2\n",
    "# equilibrium with atmosphere\n",
    "solution.equalize(['CO2(g)'], [input_pCO2])\n",
    "\n",
    "\n",
    "input_pCO2=np.log10(pCO2)\n",
    "\n",
    "solution3.equalize(['CO2(g)'], [input_pCO2])\n",
    "\n",
    "solution4.equalize(['CO2(g)'], [input_pCO2])"
   ]
  },
  {
   "cell_type": "code",
   "execution_count": null,
   "id": "74ee7809",
   "metadata": {},
   "outputs": [],
   "source": []
  },
  {
   "cell_type": "code",
   "execution_count": 270,
   "id": "b3440af1",
   "metadata": {},
   "outputs": [
    {
     "name": "stdout",
     "output_type": "stream",
     "text": [
      "Solution pH: 9.35\n"
     ]
    }
   ],
   "source": [
    "print(\"Solution pH: {:.3}\".format(solution3.pH))"
   ]
  },
  {
   "cell_type": "code",
   "execution_count": 271,
   "id": "2dd46e33",
   "metadata": {},
   "outputs": [
    {
     "name": "stdout",
     "output_type": "stream",
     "text": [
      "Solution pH: 14.2\n"
     ]
    }
   ],
   "source": [
    "print(\"Solution pH: {:.3}\".format(solution0.pH))"
   ]
  },
  {
   "cell_type": "code",
   "execution_count": 272,
   "id": "7bc6426b",
   "metadata": {},
   "outputs": [
    {
     "name": "stdout",
     "output_type": "stream",
     "text": [
      "Solution pH: 9.35\n"
     ]
    }
   ],
   "source": [
    "print(\"Solution pH: {:.3}\".format(solution4.pH))"
   ]
  },
  {
   "cell_type": "code",
   "execution_count": 273,
   "id": "90cfaed6",
   "metadata": {},
   "outputs": [
    {
     "name": "stdout",
     "output_type": "stream",
     "text": [
      "1000 as HCO3\n"
     ]
    }
   ],
   "source": [
    "print(str(TA*1000)+' as HCO3')"
   ]
  },
  {
   "cell_type": "code",
   "execution_count": 274,
   "id": "21a5bfd8",
   "metadata": {},
   "outputs": [
    {
     "name": "stdout",
     "output_type": "stream",
     "text": [
      "Solution EC: 38387.01 uS/cm\n",
      "Solution pH: 10.3\n"
     ]
    }
   ],
   "source": [
    "# Returns the specific conductance (in uS/cm) of the specified solution\n",
    "print(\"Solution EC: {:3.2f} uS/cm\".format(solution.sc))\n",
    "\n",
    "print(\"Solution pH: {:.3}\".format(solution.pH))"
   ]
  },
  {
   "cell_type": "markdown",
   "id": "0e72cce9",
   "metadata": {},
   "source": [
    "# Raise the EC,pH stepwise to see when it is reaching saturation\n",
    "\n",
    "Oceans are usually extrenmely oversaturated in CaCO3\n",
    "\n",
    "https://chemistry-europe.onlinelibrary.wiley.com/doi/full/10.1002/chem.202202290\n",
    "\n",
    "Any “inorganic precipitation” that does occur is generally of aragonite\n",
    "\n",
    "Hence, although the surface waters are oversaturated with respect to calcite, this is a kinetically metastable situation; the world's oceans have been oversaturated with respect to calcite likely for the entirety of the presence of the ocean on Earth (>3 billion years). As a consequence, this metastable oversaturation has been biologically harnessed by a range of marine calcifiers that use biogenically precipitated calcium carbonate to form protective shells and exoskeletons."
   ]
  },
  {
   "cell_type": "code",
   "execution_count": 346,
   "id": "37f05c66",
   "metadata": {},
   "outputs": [],
   "source": [
    "#high partial pressure of CO2\n",
    "\n",
    "#equalize the solution it with high CO2 pressure \n",
    "\n",
    "#concentration CO2 atmosphere\n",
    "p=415 # ppm\n",
    "\n",
    "\n",
    "#artificial atmosphere\n",
    "p=15*1e3\n",
    "\n",
    "\n",
    "#partial pressure pCO2 in atm\n",
    "pCO2=p*1e-6 \n",
    "\n",
    "#phreeqc always uses log10 values\n",
    "input_pCO2=np.log10(pCO2)"
   ]
  },
  {
   "cell_type": "code",
   "execution_count": 347,
   "id": "bb5acaed",
   "metadata": {},
   "outputs": [],
   "source": [
    "temp=25\n",
    "\n",
    "#add a pure water with 25 degC\n",
    "solution_dunite=pp.add_solution({'temp':temp})\n",
    "\n",
    "\n",
    "pH_s1=[]\n",
    "\n",
    "EC_s1=[]\n",
    "\n",
    "SI_calcite=[]\n",
    "\n",
    "SI_aragonite=[]\n",
    "\n",
    "SI_vaterite=[]\n",
    "\n",
    "#precip_MgCO3=[]\n",
    "\n",
    "\n",
    "for step in range(600):\n",
    "    \n",
    "    solution_dunite.add('Ca(OH)2',0.01, 'mmol') # add 1 mmol of \n",
    "    \n",
    "    solution_dunite.equalize(['CO2(g)'], [input_pCO2])\n",
    "    \n",
    "    #precip_MgCO3.append(solution_dunite.species['MgCO3'])\n",
    "    \n",
    "    pH_s1.append(solution_dunite.pH)\n",
    "    \n",
    "    \n",
    "    EC_s1.append(solution_dunite.sc)\n",
    "    \n",
    "    \n",
    "    #safe Saturation index of some minerals different forms of CaCO3\n",
    "    SI_calcite.append(solution_dunite.phases['Calcite'])\n",
    "    \n",
    "    SI_aragonite.append(solution_dunite.phases['Aragonite'])\n",
    "    \n",
    "    SI_vaterite.append(solution_dunite.phases['Vaterite'])\n",
    "    \n",
    "     \n",
    "    "
   ]
  },
  {
   "cell_type": "code",
   "execution_count": 348,
   "id": "e333ce2d",
   "metadata": {},
   "outputs": [
    {
     "data": {
      "text/plain": [
       "<matplotlib.legend.Legend at 0x224629bbdf0>"
      ]
     },
     "execution_count": 348,
     "metadata": {},
     "output_type": "execute_result"
    },
    {
     "data": {
      "image/png": "[encoded data removed]",
      "text/plain": [
       "<Figure size 640x480 with 1 Axes>"
      ]
     },
     "metadata": {},
     "output_type": "display_data"
    }
   ],
   "source": [
    "c=np.arange(0,600*0.01,0.01)\n",
    "\n",
    "plt.plot(c,SI_calcite,label='SI calcite')\n",
    "plt.plot(c,SI_aragonite, label='SI aragonite')\n",
    "plt.plot(c,SI_vaterite, label='SI vaterite')\n",
    "plt.axhline(y=0, color='r', linestyle='--',label='point of saturation')\n",
    "plt.xlabel('added  Ca(OH)2 [mmol]')\n",
    "plt.ylabel('SI saturation index')\n",
    "plt.legend()\n"
   ]
  },
  {
   "cell_type": "code",
   "execution_count": 349,
   "id": "7fa25da0",
   "metadata": {},
   "outputs": [
    {
     "data": {
      "text/plain": [
       "Text(0, 0.5, 'EC uS/cm')"
      ]
     },
     "execution_count": 349,
     "metadata": {},
     "output_type": "execute_result"
    },
    {
     "data": {
      "image/png": "[encoded data removed]",
      "text/plain": [
       "<Figure size 640x480 with 1 Axes>"
      ]
     },
     "metadata": {},
     "output_type": "display_data"
    }
   ],
   "source": [
    "plt.plot(c,EC_s1)\n",
    "plt.xlabel('added  Ca(OH)2 [mmol]')\n",
    "plt.ylabel('EC uS/cm')"
   ]
  },
  {
   "cell_type": "code",
   "execution_count": 350,
   "id": "c9f83a03",
   "metadata": {},
   "outputs": [
    {
     "data": {
      "text/plain": [
       "Text(0, 0.5, 'pH')"
      ]
     },
     "execution_count": 350,
     "metadata": {},
     "output_type": "execute_result"
    },
    {
     "data": {
      "image/png": "[encoded data removed]",
      "text/plain": [
       "<Figure size 640x480 with 1 Axes>"
      ]
     },
     "metadata": {},
     "output_type": "display_data"
    }
   ],
   "source": [
    "plt.plot(c,pH_s1)\n",
    "plt.xlabel('added  Ca(OH)2 [mmol]')\n",
    "plt.ylabel('pH')"
   ]
  },
  {
   "cell_type": "code",
   "execution_count": 355,
   "id": "6b222ba1",
   "metadata": {},
   "outputs": [
    {
     "data": {
      "text/plain": [
       "<phreeqpython.solution.Solution at 0x22462997ac0>"
      ]
     },
     "execution_count": 355,
     "metadata": {},
     "output_type": "execute_result"
    }
   ],
   "source": [
    "solution_dunite.desaturate('Calcite',0.0)"
   ]
  },
  {
   "cell_type": "code",
   "execution_count": 356,
   "id": "5a6fce41",
   "metadata": {},
   "outputs": [
    {
     "data": {
      "text/plain": [
       "{'Aragonite': -0.1437698473922353,\n",
       " 'CH4(g)': -9.835912787095872,\n",
       " 'CO2(g)': -1.0896258490298854,\n",
       " 'Calcite': 0.0,\n",
       " 'Fix_pH': -6.700096831207624,\n",
       " 'H2(g)': -8.678505910556115,\n",
       " 'H2O(g)': -1.5028233204748613,\n",
       " 'O2(g)': -65.92867200814172,\n",
       " 'Vaterite': -0.5664314942142994}"
      ]
     },
     "execution_count": 356,
     "metadata": {},
     "output_type": "execute_result"
    }
   ],
   "source": [
    "solution_dunite.phases"
   ]
  },
  {
   "cell_type": "code",
   "execution_count": 357,
   "id": "0f076052",
   "metadata": {},
   "outputs": [
    {
     "data": {
      "text/plain": [
       "634.8263534236595"
      ]
     },
     "execution_count": 357,
     "metadata": {},
     "output_type": "execute_result"
    }
   ],
   "source": [
    "solution_dunite.sc"
   ]
  },
  {
   "cell_type": "code",
   "execution_count": null,
   "id": "3aa571a8",
   "metadata": {},
   "outputs": [],
   "source": []
  }
 ],
 "metadata": {
  "kernelspec": {
   "display_name": "Python 3 (ipykernel)",
   "language": "python",
   "name": "python3"
  },
  "language_info": {
   "codemirror_mode": {
    "name": "ipython",
    "version": 3
   },
   "file_extension": ".py",
   "mimetype": "text/x-python",
   "name": "python",
   "nbconvert_exporter": "python",
   "pygments_lexer": "ipython3",
   "version": "3.10.9"
  }
 },
 "nbformat": 4,
 "nbformat_minor": 5
}
