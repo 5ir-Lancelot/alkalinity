{
 "cells": [
  {
   "cell_type": "markdown",
   "id": "09e050d5",
   "metadata": {},
   "source": [
    "# Calculate for which EC the saturation of certain minerals will be reached"
   ]
  },
  {
   "cell_type": "code",
   "execution_count": 319,
   "id": "b3fe08cf",
   "metadata": {},
   "outputs": [],
   "source": [
    "import phreeqpython\n",
    "pp = phreeqpython.PhreeqPython()\n",
    "\n",
    "import numpy as np"
   ]
  },
  {
   "cell_type": "markdown",
   "id": "9474f72b",
   "metadata": {},
   "source": [
    "# Phreeqc SOLUTION block\n",
    "\n",
    "https://wwwbrr.cr.usgs.gov/projects/GWC_coupled/phreeqc/html/final-56.html#89789\n",
    "\n",
    "concentration units --Default concentration units. Three groups of concentration units are allowed, concentration (1) per liter (\"/L\"), (2) per kilogram solution (\"/kgs\"), or (3) per kilogram water (\"/kgw\"). All concentration units for a solution must be within the same group. Within a group, either grams or moles may be used, and prefixes milli (m) and micro (u) are acceptable. Parts per thousand, \"ppt\"; parts per million, \"ppm\"; and parts per billion, \"ppb\", are acceptable in the \"per kilogram solution\" group. Default is mmol/kgw (millimoles per kilogram water)."
   ]
  },
  {
   "cell_type": "code",
   "execution_count": 320,
   "id": "4eedd3da",
   "metadata": {},
   "outputs": [
    {
     "name": "stdout",
     "output_type": "stream",
     "text": [
      "3.1622776601683795\n"
     ]
    }
   ],
   "source": [
    "# assume all alkalinity is OH-\n",
    "\n",
    "kw=14\n",
    "\n",
    "pH=14.5\n",
    "\n",
    "TA=10**-(kw-pH)\n",
    "\n",
    "print(TA)\n",
    "\n",
    "\n",
    "\n",
    "\n",
    "# Simple, through a reaction block\n",
    "solution0 = pp.add_solution_simple({'Ca(OH)2':TA*1000},temperature=15, units='mmol')\n",
    "\n",
    "# Complex, allowing for more 'standard' PHREEQC input (Phreeqc example 3 -- Mixing)\n",
    "solution = pp.add_solution({'units':'mmol/kgw',\n",
    "                                 'pH': pH, # controlling the OH- and H+\n",
    "                                 'temp': 25.0,\n",
    "                                 'Ca': TA/2,\n",
    "                                 #'Alkalinity': str(TA*1000)+' as HCO3',\n",
    "                                })\n"
   ]
  },
  {
   "cell_type": "code",
   "execution_count": 321,
   "id": "3d689bc7",
   "metadata": {},
   "outputs": [
    {
     "data": {
      "text/plain": [
       "14.5"
      ]
     },
     "execution_count": 321,
     "metadata": {},
     "output_type": "execute_result"
    }
   ],
   "source": [
    "solution.pH"
   ]
  },
  {
   "cell_type": "code",
   "execution_count": 322,
   "id": "dac9611e",
   "metadata": {},
   "outputs": [
    {
     "data": {
      "text/plain": [
       "{'Fix_pH': -14.5,\n",
       " 'H2(g)': -37.04892303367836,\n",
       " 'H2O(g)': -1.5028233204748613,\n",
       " 'O2(g)': -9.275738799180425}"
      ]
     },
     "execution_count": 322,
     "metadata": {},
     "output_type": "execute_result"
    }
   ],
   "source": [
    "solution.phases\n"
   ]
  },
  {
   "cell_type": "markdown",
   "id": "cc61a8c3",
   "metadata": {},
   "source": [
    "# Equilibrium with high CO2 partial pressure"
   ]
  },
  {
   "cell_type": "code",
   "execution_count": 323,
   "id": "0434a4b8",
   "metadata": {},
   "outputs": [
    {
     "data": {
      "text/plain": [
       "<phreeqpython.solution.Solution at 0x165ed0d2680>"
      ]
     },
     "execution_count": 323,
     "metadata": {},
     "output_type": "execute_result"
    }
   ],
   "source": [
    "#equalize the solution it with high CO2 pressure \n",
    "\n",
    "\n",
    "pCO2=400000\n",
    "\n",
    "#phreeqc always uses log10 values\n",
    "input_pCO2=np.log10(pCO2)\n",
    "\n",
    "\n",
    "# equalize solution with CO2\n",
    "# equilibrium with atmosphere\n",
    "solution.equalize(['CO2(g)'], [input_pCO2])"
   ]
  },
  {
   "cell_type": "code",
   "execution_count": 324,
   "id": "e9100f41",
   "metadata": {},
   "outputs": [
    {
     "name": "stdout",
     "output_type": "stream",
     "text": [
      "Solution pH: 14.6\n"
     ]
    }
   ],
   "source": [
    "print(\"Solution pH: {:.3}\".format(solution0.pH))"
   ]
  },
  {
   "cell_type": "code",
   "execution_count": 325,
   "id": "18a6df9c",
   "metadata": {},
   "outputs": [
    {
     "name": "stdout",
     "output_type": "stream",
     "text": [
      "3162.2776601683795 as HCO3\n"
     ]
    }
   ],
   "source": [
    "print(str(TA*1000)+' as HCO3')"
   ]
  },
  {
   "cell_type": "code",
   "execution_count": 326,
   "id": "217b2bad",
   "metadata": {},
   "outputs": [
    {
     "name": "stdout",
     "output_type": "stream",
     "text": [
      "Solution EC: 109001.36 uS/cm\n",
      "Solution pH: 6.05\n"
     ]
    }
   ],
   "source": [
    "# Returns the specific conductance (in uS/cm) of the specified solution\n",
    "print(\"Solution EC: {:3.2f} uS/cm\".format(solution.sc))\n",
    "\n",
    "print(\"Solution pH: {:.3}\".format(solution.pH))"
   ]
  },
  {
   "cell_type": "code",
   "execution_count": 327,
   "id": "cf18c76d",
   "metadata": {},
   "outputs": [
    {
     "data": {
      "text/plain": [
       "{'CH4': 0.0,\n",
       " 'CO2': 4.327781874248874,\n",
       " 'CO3-2': 0.0013236935100065406,\n",
       " 'Ca+2': 6.0579509855053024e-05,\n",
       " 'CaCO3': 3.465444732828499e-06,\n",
       " 'CaHCO3+': 0.0015170938683057268,\n",
       " 'CaOH+': 2.5937273372967314e-12,\n",
       " 'H+': 1.2384354800780973e-06,\n",
       " 'H2': 0.0,\n",
       " 'H2O': 55.51062372790199,\n",
       " 'HCO3-': 5.669373872930036,\n",
       " 'O2': 3.530313942190357e-13,\n",
       " 'OH-': 1.8522815001070663e-08}"
      ]
     },
     "execution_count": 327,
     "metadata": {},
     "output_type": "execute_result"
    }
   ],
   "source": [
    "solution.species\n"
   ]
  },
  {
   "cell_type": "code",
   "execution_count": 328,
   "id": "c7ec3a96",
   "metadata": {
    "scrolled": true
   },
   "outputs": [
    {
     "data": {
      "text/plain": [
       "{'Aragonite': -0.06566013627507772,\n",
       " 'CH4(g)': -119.8317813334165,\n",
       " 'CO2(g)': 2.381446697426809,\n",
       " 'Calcite': 0.07810971111715759,\n",
       " 'Fix_pH': -6.050805936395014,\n",
       " 'H2(g)': -37.085652186985996,\n",
       " 'H2O(g)': -1.5028233204748613,\n",
       " 'O2(g)': -9.276023468224146,\n",
       " 'Vaterite': -0.4883217830971418}"
      ]
     },
     "execution_count": 328,
     "metadata": {},
     "output_type": "execute_result"
    }
   ],
   "source": [
    "solution.phases"
   ]
  },
  {
   "cell_type": "code",
   "execution_count": null,
   "id": "178e015d",
   "metadata": {},
   "outputs": [],
   "source": []
  },
  {
   "cell_type": "code",
   "execution_count": null,
   "id": "c5998b80",
   "metadata": {},
   "outputs": [],
   "source": []
  }
 ],
 "metadata": {
  "kernelspec": {
   "display_name": "Python 3 (ipykernel)",
   "language": "python",
   "name": "python3"
  },
  "language_info": {
   "codemirror_mode": {
    "name": "ipython",
    "version": 3
   },
   "file_extension": ".py",
   "mimetype": "text/x-python",
   "name": "python",
   "nbconvert_exporter": "python",
   "pygments_lexer": "ipython3",
   "version": "3.10.9"
  }
 },
 "nbformat": 4,
 "nbformat_minor": 5
}
